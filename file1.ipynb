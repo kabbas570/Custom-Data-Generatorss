 #### Specify all the paths here #####
   
test_imgs='/data/scratch/acw676/keen/Full Scale Images/img/'   ## full-sace images 
test_masks='/data/scratch/acw676/keen/Full Scale Images/gt/'  ## full-sace ground truths 
path_to_checkpoints="/data/home/acw676/keen/Weights/DeepLabV3Plus_Real.pth.tar"
path_to_save_visual_results='/data/scratch/acw676/keen/Real/Results/'

import os
from torch.utils.data import Dataset
import numpy as np
from torch.utils.data import DataLoader
import cv2
from empatches import EMPatches
emp = EMPatches()
import torch    
DEVICE = "cuda" if torch.cuda.is_available() else "cpu"
import albumentations as A
import segmentation_models_pytorch as smp
from tqdm import tqdm
import torch.optim as optim
import matplotlib.pyplot as plt
DEVICE = torch.device('cuda') if torch.cuda.is_available() else torch.device('cpu')
